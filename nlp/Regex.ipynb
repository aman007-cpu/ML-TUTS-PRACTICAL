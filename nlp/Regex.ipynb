{
 "cells": [
  {
   "cell_type": "code",
   "execution_count": 1,
   "id": "5192a770",
   "metadata": {},
   "outputs": [],
   "source": [
    "import re"
   ]
  },
  {
   "cell_type": "code",
   "execution_count": 12,
   "id": "a2b37427",
   "metadata": {},
   "outputs": [],
   "source": [
    "chat1 = 'amanbasic: you ask a lot of questions 🙂 1234567890, abAAdc@xyz.com'\n",
    "chat2 = 'amanbasic: here it is : (123)-456-7890, ab_424_c@xyz.com'\n",
    "chat3 = 'amanbasic: yes, phone:1234567890 email: abc@xyz.com'"
   ]
  },
  {
   "cell_type": "code",
   "execution_count": 13,
   "id": "780a8302",
   "metadata": {},
   "outputs": [
    {
     "data": {
      "text/plain": [
       "['abAAdc@xyz.com']"
      ]
     },
     "execution_count": 13,
     "metadata": {},
     "output_type": "execute_result"
    }
   ],
   "source": [
    "pattern = '\\d{10}|\\(\\d{3}\\)-\\d{3}-\\d{4}'\n",
    "pat2 = '[a-z0-9A-Z_]*@[a-z0-9A-Z_]*\\.com'\n",
    "matches = re.findall(pat2,chat1)\n",
    "matches"
   ]
  },
  {
   "cell_type": "code",
   "execution_count": 17,
   "id": "343339f5",
   "metadata": {},
   "outputs": [],
   "source": [
    "o1 = 'aman: Hello, i am having an issue with my order #41289422'\n",
    "o2 = 'aman: I have a problem with my order number 41289422'\n",
    "o3 = 'aman: My order 41289422 is having an issue, i was charged 300$ when online it says 280$'"
   ]
  },
  {
   "cell_type": "code",
   "execution_count": 20,
   "id": "642b0759",
   "metadata": {},
   "outputs": [
    {
     "data": {
      "text/plain": [
       "['41289422']"
      ]
     },
     "execution_count": 20,
     "metadata": {},
     "output_type": "execute_result"
    }
   ],
   "source": [
    "pat = 'order[^\\d]*(\\d*)'\n",
    "match = re.findall(pat,o3)\n",
    "match"
   ]
  },
  {
   "cell_type": "code",
   "execution_count": null,
   "id": "77104c15",
   "metadata": {},
   "outputs": [],
   "source": []
  }
 ],
 "metadata": {
  "kernelspec": {
   "display_name": "Python 3 (ipykernel)",
   "language": "python",
   "name": "python3"
  },
  "language_info": {
   "codemirror_mode": {
    "name": "ipython",
    "version": 3
   },
   "file_extension": ".py",
   "mimetype": "text/x-python",
   "name": "python",
   "nbconvert_exporter": "python",
   "pygments_lexer": "ipython3",
   "version": "3.9.12"
  }
 },
 "nbformat": 4,
 "nbformat_minor": 5
}
