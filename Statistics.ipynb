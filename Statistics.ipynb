{
 "cells": [
  {
   "cell_type": "code",
   "execution_count": 1,
   "id": "61c1d77d",
   "metadata": {},
   "outputs": [],
   "source": [
    "import pandas as pd"
   ]
  },
  {
   "cell_type": "code",
   "execution_count": 2,
   "id": "2f20b264",
   "metadata": {},
   "outputs": [],
   "source": [
    "data = pd.read_csv(\"E:/Median.csv\")"
   ]
  },
  {
   "cell_type": "code",
   "execution_count": 3,
   "id": "e5ceab28",
   "metadata": {},
   "outputs": [
    {
     "data": {
      "text/html": [
       "<div>\n",
       "<style scoped>\n",
       "    .dataframe tbody tr th:only-of-type {\n",
       "        vertical-align: middle;\n",
       "    }\n",
       "\n",
       "    .dataframe tbody tr th {\n",
       "        vertical-align: top;\n",
       "    }\n",
       "\n",
       "    .dataframe thead th {\n",
       "        text-align: right;\n",
       "    }\n",
       "</style>\n",
       "<table border=\"1\" class=\"dataframe\">\n",
       "  <thead>\n",
       "    <tr style=\"text-align: right;\">\n",
       "      <th></th>\n",
       "      <th>Student</th>\n",
       "      <th>Overall Marks</th>\n",
       "      <th>Gender</th>\n",
       "      <th>Subject</th>\n",
       "    </tr>\n",
       "  </thead>\n",
       "  <tbody>\n",
       "    <tr>\n",
       "      <th>0</th>\n",
       "      <td>Anish</td>\n",
       "      <td>9700</td>\n",
       "      <td>Male</td>\n",
       "      <td>English</td>\n",
       "    </tr>\n",
       "    <tr>\n",
       "      <th>1</th>\n",
       "      <td>Rishabh</td>\n",
       "      <td>83</td>\n",
       "      <td>Male</td>\n",
       "      <td>English</td>\n",
       "    </tr>\n",
       "    <tr>\n",
       "      <th>2</th>\n",
       "      <td>Ajay</td>\n",
       "      <td>78</td>\n",
       "      <td>Male</td>\n",
       "      <td>Physics</td>\n",
       "    </tr>\n",
       "    <tr>\n",
       "      <th>3</th>\n",
       "      <td>Abhinav</td>\n",
       "      <td>86</td>\n",
       "      <td>Male</td>\n",
       "      <td>Chemistry</td>\n",
       "    </tr>\n",
       "    <tr>\n",
       "      <th>4</th>\n",
       "      <td>Anurag</td>\n",
       "      <td>91</td>\n",
       "      <td>Male</td>\n",
       "      <td>English</td>\n",
       "    </tr>\n",
       "    <tr>\n",
       "      <th>...</th>\n",
       "      <td>...</td>\n",
       "      <td>...</td>\n",
       "      <td>...</td>\n",
       "      <td>...</td>\n",
       "    </tr>\n",
       "    <tr>\n",
       "      <th>95</th>\n",
       "      <td>Aaditya</td>\n",
       "      <td>77</td>\n",
       "      <td>Male</td>\n",
       "      <td>Chemistry</td>\n",
       "    </tr>\n",
       "    <tr>\n",
       "      <th>96</th>\n",
       "      <td>vivek</td>\n",
       "      <td>55</td>\n",
       "      <td>Male</td>\n",
       "      <td>Physics</td>\n",
       "    </tr>\n",
       "    <tr>\n",
       "      <th>97</th>\n",
       "      <td>Tisha</td>\n",
       "      <td>7</td>\n",
       "      <td>Female</td>\n",
       "      <td>English</td>\n",
       "    </tr>\n",
       "    <tr>\n",
       "      <th>98</th>\n",
       "      <td>Raghav</td>\n",
       "      <td>73</td>\n",
       "      <td>Male</td>\n",
       "      <td>English</td>\n",
       "    </tr>\n",
       "    <tr>\n",
       "      <th>99</th>\n",
       "      <td>Ishita</td>\n",
       "      <td>82</td>\n",
       "      <td>Female</td>\n",
       "      <td>Chemistry</td>\n",
       "    </tr>\n",
       "  </tbody>\n",
       "</table>\n",
       "<p>100 rows × 4 columns</p>\n",
       "</div>"
      ],
      "text/plain": [
       "    Student  Overall Marks  Gender    Subject\n",
       "0     Anish           9700    Male    English\n",
       "1   Rishabh             83    Male    English\n",
       "2      Ajay             78    Male    Physics\n",
       "3   Abhinav             86    Male  Chemistry\n",
       "4    Anurag             91    Male    English\n",
       "..      ...            ...     ...        ...\n",
       "95  Aaditya             77    Male  Chemistry\n",
       "96    vivek             55    Male    Physics\n",
       "97    Tisha              7  Female    English\n",
       "98   Raghav             73    Male    English\n",
       "99   Ishita             82  Female  Chemistry\n",
       "\n",
       "[100 rows x 4 columns]"
      ]
     },
     "execution_count": 3,
     "metadata": {},
     "output_type": "execute_result"
    }
   ],
   "source": [
    "data"
   ]
  },
  {
   "cell_type": "code",
   "execution_count": 4,
   "id": "ee686f4e",
   "metadata": {},
   "outputs": [
    {
     "data": {
      "text/html": [
       "<div>\n",
       "<style scoped>\n",
       "    .dataframe tbody tr th:only-of-type {\n",
       "        vertical-align: middle;\n",
       "    }\n",
       "\n",
       "    .dataframe tbody tr th {\n",
       "        vertical-align: top;\n",
       "    }\n",
       "\n",
       "    .dataframe thead th {\n",
       "        text-align: right;\n",
       "    }\n",
       "</style>\n",
       "<table border=\"1\" class=\"dataframe\">\n",
       "  <thead>\n",
       "    <tr style=\"text-align: right;\">\n",
       "      <th></th>\n",
       "      <th>Student</th>\n",
       "      <th>Overall Marks</th>\n",
       "      <th>Gender</th>\n",
       "      <th>Subject</th>\n",
       "    </tr>\n",
       "  </thead>\n",
       "  <tbody>\n",
       "    <tr>\n",
       "      <th>0</th>\n",
       "      <td>ALOK</td>\n",
       "      <td>88.0</td>\n",
       "      <td>Male</td>\n",
       "      <td>Chemistry</td>\n",
       "    </tr>\n",
       "    <tr>\n",
       "      <th>1</th>\n",
       "      <td>Aaditya</td>\n",
       "      <td>NaN</td>\n",
       "      <td>NaN</td>\n",
       "      <td>NaN</td>\n",
       "    </tr>\n",
       "    <tr>\n",
       "      <th>2</th>\n",
       "      <td>Abhinav</td>\n",
       "      <td>NaN</td>\n",
       "      <td>NaN</td>\n",
       "      <td>NaN</td>\n",
       "    </tr>\n",
       "    <tr>\n",
       "      <th>3</th>\n",
       "      <td>Abhishek</td>\n",
       "      <td>NaN</td>\n",
       "      <td>NaN</td>\n",
       "      <td>NaN</td>\n",
       "    </tr>\n",
       "    <tr>\n",
       "      <th>4</th>\n",
       "      <td>Aditya</td>\n",
       "      <td>NaN</td>\n",
       "      <td>NaN</td>\n",
       "      <td>NaN</td>\n",
       "    </tr>\n",
       "    <tr>\n",
       "      <th>...</th>\n",
       "      <td>...</td>\n",
       "      <td>...</td>\n",
       "      <td>...</td>\n",
       "      <td>...</td>\n",
       "    </tr>\n",
       "    <tr>\n",
       "      <th>95</th>\n",
       "      <td>vedant</td>\n",
       "      <td>NaN</td>\n",
       "      <td>NaN</td>\n",
       "      <td>NaN</td>\n",
       "    </tr>\n",
       "    <tr>\n",
       "      <th>96</th>\n",
       "      <td>vikas</td>\n",
       "      <td>NaN</td>\n",
       "      <td>NaN</td>\n",
       "      <td>NaN</td>\n",
       "    </tr>\n",
       "    <tr>\n",
       "      <th>97</th>\n",
       "      <td>vishal</td>\n",
       "      <td>NaN</td>\n",
       "      <td>NaN</td>\n",
       "      <td>NaN</td>\n",
       "    </tr>\n",
       "    <tr>\n",
       "      <th>98</th>\n",
       "      <td>vivek</td>\n",
       "      <td>NaN</td>\n",
       "      <td>NaN</td>\n",
       "      <td>NaN</td>\n",
       "    </tr>\n",
       "    <tr>\n",
       "      <th>99</th>\n",
       "      <td>yash</td>\n",
       "      <td>NaN</td>\n",
       "      <td>NaN</td>\n",
       "      <td>NaN</td>\n",
       "    </tr>\n",
       "  </tbody>\n",
       "</table>\n",
       "<p>100 rows × 4 columns</p>\n",
       "</div>"
      ],
      "text/plain": [
       "     Student  Overall Marks Gender    Subject\n",
       "0       ALOK           88.0   Male  Chemistry\n",
       "1    Aaditya            NaN    NaN        NaN\n",
       "2    Abhinav            NaN    NaN        NaN\n",
       "3   Abhishek            NaN    NaN        NaN\n",
       "4     Aditya            NaN    NaN        NaN\n",
       "..       ...            ...    ...        ...\n",
       "95    vedant            NaN    NaN        NaN\n",
       "96     vikas            NaN    NaN        NaN\n",
       "97    vishal            NaN    NaN        NaN\n",
       "98     vivek            NaN    NaN        NaN\n",
       "99      yash            NaN    NaN        NaN\n",
       "\n",
       "[100 rows x 4 columns]"
      ]
     },
     "execution_count": 4,
     "metadata": {},
     "output_type": "execute_result"
    }
   ],
   "source": [
    "data.mode()"
   ]
  },
  {
   "cell_type": "code",
   "execution_count": 6,
   "id": "41730333",
   "metadata": {},
   "outputs": [],
   "source": [
    "mean = data['Overall Marks'].mean()"
   ]
  },
  {
   "cell_type": "code",
   "execution_count": 7,
   "id": "f0158c5c",
   "metadata": {},
   "outputs": [
    {
     "data": {
      "text/plain": [
       "164.24"
      ]
     },
     "execution_count": 7,
     "metadata": {},
     "output_type": "execute_result"
    }
   ],
   "source": [
    "mean"
   ]
  },
  {
   "cell_type": "code",
   "execution_count": 8,
   "id": "2f9c357a",
   "metadata": {},
   "outputs": [],
   "source": [
    "median = data['Overall Marks'].median()"
   ]
  },
  {
   "cell_type": "code",
   "execution_count": 9,
   "id": "2abea1a7",
   "metadata": {},
   "outputs": [
    {
     "data": {
      "text/plain": [
       "77.0"
      ]
     },
     "execution_count": 9,
     "metadata": {},
     "output_type": "execute_result"
    }
   ],
   "source": [
    "median"
   ]
  },
  {
   "cell_type": "code",
   "execution_count": 10,
   "id": "c9af787b",
   "metadata": {},
   "outputs": [],
   "source": [
    "q1 =  data['Overall Marks'].quantile(0.25)\n",
    "q2 =  data['Overall Marks'].quantile(0.50)\n",
    "q3 =  data['Overall Marks'].quantile(0.75)\n",
    "q4 =  data['Overall Marks'].quantile(1)"
   ]
  },
  {
   "cell_type": "code",
   "execution_count": 11,
   "id": "605fd7fe",
   "metadata": {},
   "outputs": [
    {
     "data": {
      "text/plain": [
       "57.25"
      ]
     },
     "execution_count": 11,
     "metadata": {},
     "output_type": "execute_result"
    }
   ],
   "source": [
    "q1"
   ]
  },
  {
   "cell_type": "code",
   "execution_count": 12,
   "id": "40046d54",
   "metadata": {},
   "outputs": [
    {
     "data": {
      "text/plain": [
       "9700.0"
      ]
     },
     "execution_count": 12,
     "metadata": {},
     "output_type": "execute_result"
    }
   ],
   "source": [
    "q2 \n",
    "q3\n",
    "q4"
   ]
  },
  {
   "cell_type": "code",
   "execution_count": 13,
   "id": "19acbb39",
   "metadata": {},
   "outputs": [
    {
     "name": "stdout",
     "output_type": "stream",
     "text": [
      "77.0\n",
      "87.25\n"
     ]
    }
   ],
   "source": [
    "print(q2)\n",
    "print(q3)"
   ]
  },
  {
   "cell_type": "code",
   "execution_count": 16,
   "id": "0ce389b8",
   "metadata": {},
   "outputs": [
    {
     "name": "stderr",
     "output_type": "stream",
     "text": [
      "C:\\Users\\amank\\AppData\\Local\\Temp\\ipykernel_25508\\2482970066.py:1: SettingWithCopyWarning: \n",
      "A value is trying to be set on a copy of a slice from a DataFrame\n",
      "\n",
      "See the caveats in the documentation: https://pandas.pydata.org/pandas-docs/stable/user_guide/indexing.html#returning-a-view-versus-a-copy\n",
      "  data[\"Overall Marks\"][0] = 9700\n"
     ]
    }
   ],
   "source": [
    "data[\"Overall Marks\"][0] = 9700"
   ]
  },
  {
   "cell_type": "code",
   "execution_count": 17,
   "id": "b6ea5217",
   "metadata": {},
   "outputs": [
    {
     "data": {
      "text/html": [
       "<div>\n",
       "<style scoped>\n",
       "    .dataframe tbody tr th:only-of-type {\n",
       "        vertical-align: middle;\n",
       "    }\n",
       "\n",
       "    .dataframe tbody tr th {\n",
       "        vertical-align: top;\n",
       "    }\n",
       "\n",
       "    .dataframe thead th {\n",
       "        text-align: right;\n",
       "    }\n",
       "</style>\n",
       "<table border=\"1\" class=\"dataframe\">\n",
       "  <thead>\n",
       "    <tr style=\"text-align: right;\">\n",
       "      <th></th>\n",
       "      <th>Student</th>\n",
       "      <th>Overall Marks</th>\n",
       "      <th>Gender</th>\n",
       "      <th>Subject</th>\n",
       "    </tr>\n",
       "  </thead>\n",
       "  <tbody>\n",
       "    <tr>\n",
       "      <th>0</th>\n",
       "      <td>Anish</td>\n",
       "      <td>9700</td>\n",
       "      <td>Male</td>\n",
       "      <td>English</td>\n",
       "    </tr>\n",
       "    <tr>\n",
       "      <th>1</th>\n",
       "      <td>Rishabh</td>\n",
       "      <td>83</td>\n",
       "      <td>Male</td>\n",
       "      <td>English</td>\n",
       "    </tr>\n",
       "    <tr>\n",
       "      <th>2</th>\n",
       "      <td>Ajay</td>\n",
       "      <td>78</td>\n",
       "      <td>Male</td>\n",
       "      <td>Physics</td>\n",
       "    </tr>\n",
       "    <tr>\n",
       "      <th>3</th>\n",
       "      <td>Abhinav</td>\n",
       "      <td>86</td>\n",
       "      <td>Male</td>\n",
       "      <td>Chemistry</td>\n",
       "    </tr>\n",
       "    <tr>\n",
       "      <th>4</th>\n",
       "      <td>Anurag</td>\n",
       "      <td>91</td>\n",
       "      <td>Male</td>\n",
       "      <td>English</td>\n",
       "    </tr>\n",
       "    <tr>\n",
       "      <th>...</th>\n",
       "      <td>...</td>\n",
       "      <td>...</td>\n",
       "      <td>...</td>\n",
       "      <td>...</td>\n",
       "    </tr>\n",
       "    <tr>\n",
       "      <th>95</th>\n",
       "      <td>Aaditya</td>\n",
       "      <td>77</td>\n",
       "      <td>Male</td>\n",
       "      <td>Chemistry</td>\n",
       "    </tr>\n",
       "    <tr>\n",
       "      <th>96</th>\n",
       "      <td>vivek</td>\n",
       "      <td>55</td>\n",
       "      <td>Male</td>\n",
       "      <td>Physics</td>\n",
       "    </tr>\n",
       "    <tr>\n",
       "      <th>97</th>\n",
       "      <td>Tisha</td>\n",
       "      <td>7</td>\n",
       "      <td>Female</td>\n",
       "      <td>English</td>\n",
       "    </tr>\n",
       "    <tr>\n",
       "      <th>98</th>\n",
       "      <td>Raghav</td>\n",
       "      <td>73</td>\n",
       "      <td>Male</td>\n",
       "      <td>English</td>\n",
       "    </tr>\n",
       "    <tr>\n",
       "      <th>99</th>\n",
       "      <td>Ishita</td>\n",
       "      <td>82</td>\n",
       "      <td>Female</td>\n",
       "      <td>Chemistry</td>\n",
       "    </tr>\n",
       "  </tbody>\n",
       "</table>\n",
       "<p>100 rows × 4 columns</p>\n",
       "</div>"
      ],
      "text/plain": [
       "    Student  Overall Marks  Gender    Subject\n",
       "0     Anish           9700    Male    English\n",
       "1   Rishabh             83    Male    English\n",
       "2      Ajay             78    Male    Physics\n",
       "3   Abhinav             86    Male  Chemistry\n",
       "4    Anurag             91    Male    English\n",
       "..      ...            ...     ...        ...\n",
       "95  Aaditya             77    Male  Chemistry\n",
       "96    vivek             55    Male    Physics\n",
       "97    Tisha              7  Female    English\n",
       "98   Raghav             73    Male    English\n",
       "99   Ishita             82  Female  Chemistry\n",
       "\n",
       "[100 rows x 4 columns]"
      ]
     },
     "execution_count": 17,
     "metadata": {},
     "output_type": "execute_result"
    }
   ],
   "source": [
    "data"
   ]
  },
  {
   "cell_type": "markdown",
   "id": "1dbdeabf",
   "metadata": {},
   "source": [
    "# Spread of Data"
   ]
  },
  {
   "cell_type": "code",
   "execution_count": 18,
   "id": "14cda521",
   "metadata": {},
   "outputs": [],
   "source": [
    "max_data = data[\"Overall Marks\"].max()"
   ]
  },
  {
   "cell_type": "code",
   "execution_count": 19,
   "id": "d89aa056",
   "metadata": {},
   "outputs": [
    {
     "data": {
      "text/plain": [
       "9700"
      ]
     },
     "execution_count": 19,
     "metadata": {},
     "output_type": "execute_result"
    }
   ],
   "source": [
    "max_data"
   ]
  },
  {
   "cell_type": "code",
   "execution_count": 20,
   "id": "41d4631b",
   "metadata": {},
   "outputs": [],
   "source": [
    "min_data = data[\"Overall Marks\"].min()"
   ]
  },
  {
   "cell_type": "code",
   "execution_count": 21,
   "id": "c51d950f",
   "metadata": {},
   "outputs": [
    {
     "data": {
      "text/plain": [
       "0"
      ]
     },
     "execution_count": 21,
     "metadata": {},
     "output_type": "execute_result"
    }
   ],
   "source": [
    "min_data"
   ]
  },
  {
   "cell_type": "code",
   "execution_count": 22,
   "id": "36205f8c",
   "metadata": {},
   "outputs": [],
   "source": [
    "rangedata = max_data - min_data"
   ]
  },
  {
   "cell_type": "code",
   "execution_count": 23,
   "id": "ff43809b",
   "metadata": {},
   "outputs": [
    {
     "data": {
      "text/plain": [
       "9700"
      ]
     },
     "execution_count": 23,
     "metadata": {},
     "output_type": "execute_result"
    }
   ],
   "source": [
    "rangedata"
   ]
  },
  {
   "cell_type": "code",
   "execution_count": 24,
   "id": "af2b32c2",
   "metadata": {},
   "outputs": [],
   "source": [
    "# now as there an outlier present in the data so we have to calculate the 1st & 3rd quantile\n",
    "q1 = data[\"Overall Marks\"].quantile(0.25)\n",
    "q2 = data[\"Overall Marks\"].quantile(0.75)"
   ]
  },
  {
   "cell_type": "code",
   "execution_count": 25,
   "id": "26ced007",
   "metadata": {},
   "outputs": [],
   "source": [
    "Iqr = q2-q1"
   ]
  },
  {
   "cell_type": "code",
   "execution_count": 26,
   "id": "f92693ea",
   "metadata": {},
   "outputs": [
    {
     "data": {
      "text/plain": [
       "30.0"
      ]
     },
     "execution_count": 26,
     "metadata": {},
     "output_type": "execute_result"
    }
   ],
   "source": [
    "Iqr"
   ]
  },
  {
   "cell_type": "markdown",
   "id": "3f669918",
   "metadata": {},
   "source": [
    "# variance"
   ]
  },
  {
   "cell_type": "code",
   "execution_count": 27,
   "id": "77ebd06e",
   "metadata": {},
   "outputs": [],
   "source": [
    "# Steps to calculate variance\n",
    "# 1. calc mean\n",
    "# 2. cal the distance from mean for each element\n",
    "# 3. calc sqrd distance\n",
    "# 4. Take avg of the sqrd distamce"
   ]
  },
  {
   "cell_type": "code",
   "execution_count": 28,
   "id": "b455a06f",
   "metadata": {},
   "outputs": [],
   "source": [
    "mean = data[\"Overall Marks\"].mean()"
   ]
  },
  {
   "cell_type": "code",
   "execution_count": 29,
   "id": "2b83cd03",
   "metadata": {},
   "outputs": [
    {
     "data": {
      "text/plain": [
       "164.24"
      ]
     },
     "execution_count": 29,
     "metadata": {},
     "output_type": "execute_result"
    }
   ],
   "source": [
    "mean"
   ]
  },
  {
   "cell_type": "code",
   "execution_count": 30,
   "id": "a637d000",
   "metadata": {},
   "outputs": [],
   "source": [
    "diff = data[\"Overall Marks\"]  - mean"
   ]
  },
  {
   "cell_type": "code",
   "execution_count": 31,
   "id": "078bdad5",
   "metadata": {},
   "outputs": [
    {
     "data": {
      "text/plain": [
       "0     9535.76\n",
       "1      -81.24\n",
       "2      -86.24\n",
       "3      -78.24\n",
       "4      -73.24\n",
       "       ...   \n",
       "95     -87.24\n",
       "96    -109.24\n",
       "97    -157.24\n",
       "98     -91.24\n",
       "99     -82.24\n",
       "Name: Overall Marks, Length: 100, dtype: float64"
      ]
     },
     "execution_count": 31,
     "metadata": {},
     "output_type": "execute_result"
    }
   ],
   "source": [
    "diff"
   ]
  },
  {
   "cell_type": "code",
   "execution_count": 32,
   "id": "a31b92de",
   "metadata": {},
   "outputs": [],
   "source": [
    "squared_dist  = diff**2"
   ]
  },
  {
   "cell_type": "code",
   "execution_count": 33,
   "id": "94132b84",
   "metadata": {},
   "outputs": [
    {
     "data": {
      "text/plain": [
       "0     9.093072e+07\n",
       "1     6.599938e+03\n",
       "2     7.437338e+03\n",
       "3     6.121498e+03\n",
       "4     5.364098e+03\n",
       "          ...     \n",
       "95    7.610818e+03\n",
       "96    1.193338e+04\n",
       "97    2.472442e+04\n",
       "98    8.324738e+03\n",
       "99    6.763418e+03\n",
       "Name: Overall Marks, Length: 100, dtype: float64"
      ]
     },
     "execution_count": 33,
     "metadata": {},
     "output_type": "execute_result"
    }
   ],
   "source": [
    "squared_dist"
   ]
  },
  {
   "cell_type": "code",
   "execution_count": 34,
   "id": "61440f63",
   "metadata": {},
   "outputs": [],
   "source": [
    "variance = squared_dist.mean()"
   ]
  },
  {
   "cell_type": "code",
   "execution_count": 35,
   "id": "8ee18ebe",
   "metadata": {},
   "outputs": [
    {
     "data": {
      "text/plain": [
       "919170.8423999996"
      ]
     },
     "execution_count": 35,
     "metadata": {},
     "output_type": "execute_result"
    }
   ],
   "source": [
    "variance"
   ]
  },
  {
   "cell_type": "code",
   "execution_count": 36,
   "id": "0fa32957",
   "metadata": {},
   "outputs": [],
   "source": [
    "var_data = data[\"Overall Marks\"].var(ddof=0)"
   ]
  },
  {
   "cell_type": "code",
   "execution_count": 37,
   "id": "ef3c2f22",
   "metadata": {},
   "outputs": [
    {
     "data": {
      "text/plain": [
       "919170.8423999996"
      ]
     },
     "execution_count": 37,
     "metadata": {},
     "output_type": "execute_result"
    }
   ],
   "source": [
    "var_data"
   ]
  },
  {
   "cell_type": "code",
   "execution_count": 38,
   "id": "651e399f",
   "metadata": {},
   "outputs": [],
   "source": [
    "import numpy as np"
   ]
  },
  {
   "cell_type": "code",
   "execution_count": 39,
   "id": "86b005c1",
   "metadata": {},
   "outputs": [],
   "source": [
    "l = np.array([7,6,8,4,2,7,6,7,6,5])"
   ]
  },
  {
   "cell_type": "code",
   "execution_count": 40,
   "id": "92599774",
   "metadata": {},
   "outputs": [
    {
     "data": {
      "text/plain": [
       "array([7, 6, 8, 4, 2, 7, 6, 7, 6, 5])"
      ]
     },
     "execution_count": 40,
     "metadata": {},
     "output_type": "execute_result"
    }
   ],
   "source": [
    "l"
   ]
  },
  {
   "cell_type": "code",
   "execution_count": 41,
   "id": "a4854ace",
   "metadata": {},
   "outputs": [
    {
     "data": {
      "text/plain": [
       "2.7600000000000002"
      ]
     },
     "execution_count": 41,
     "metadata": {},
     "output_type": "execute_result"
    }
   ],
   "source": [
    "l.var(ddof=0)"
   ]
  },
  {
   "cell_type": "markdown",
   "id": "432df089",
   "metadata": {},
   "source": [
    "# Standard Deviation"
   ]
  },
  {
   "cell_type": "code",
   "execution_count": 44,
   "id": "dcfbace8",
   "metadata": {},
   "outputs": [
    {
     "data": {
      "text/plain": [
       "919170.8423999996"
      ]
     },
     "execution_count": 44,
     "metadata": {},
     "output_type": "execute_result"
    }
   ],
   "source": [
    "variance"
   ]
  },
  {
   "cell_type": "code",
   "execution_count": 45,
   "id": "933d6e87",
   "metadata": {},
   "outputs": [],
   "source": [
    "stand_dev = variance**(1/2)"
   ]
  },
  {
   "cell_type": "code",
   "execution_count": 46,
   "id": "72daf4fc",
   "metadata": {},
   "outputs": [
    {
     "data": {
      "text/plain": [
       "958.7339789534944"
      ]
     },
     "execution_count": 46,
     "metadata": {},
     "output_type": "execute_result"
    }
   ],
   "source": [
    "stand_dev"
   ]
  },
  {
   "cell_type": "code",
   "execution_count": 47,
   "id": "2d47ea8c",
   "metadata": {},
   "outputs": [],
   "source": [
    "std = data[\"Overall Marks\"].std(ddof=0)"
   ]
  },
  {
   "cell_type": "code",
   "execution_count": 48,
   "id": "9238132b",
   "metadata": {},
   "outputs": [
    {
     "data": {
      "text/plain": [
       "958.7339789534944"
      ]
     },
     "execution_count": 48,
     "metadata": {},
     "output_type": "execute_result"
    }
   ],
   "source": [
    "std"
   ]
  },
  {
   "cell_type": "code",
   "execution_count": 49,
   "id": "f90687af",
   "metadata": {},
   "outputs": [
    {
     "data": {
      "text/html": [
       "<div>\n",
       "<style scoped>\n",
       "    .dataframe tbody tr th:only-of-type {\n",
       "        vertical-align: middle;\n",
       "    }\n",
       "\n",
       "    .dataframe tbody tr th {\n",
       "        vertical-align: top;\n",
       "    }\n",
       "\n",
       "    .dataframe thead th {\n",
       "        text-align: right;\n",
       "    }\n",
       "</style>\n",
       "<table border=\"1\" class=\"dataframe\">\n",
       "  <thead>\n",
       "    <tr style=\"text-align: right;\">\n",
       "      <th></th>\n",
       "      <th>Student</th>\n",
       "      <th>Overall Marks</th>\n",
       "      <th>Gender</th>\n",
       "      <th>Subject</th>\n",
       "    </tr>\n",
       "  </thead>\n",
       "  <tbody>\n",
       "    <tr>\n",
       "      <th>0</th>\n",
       "      <td>Anish</td>\n",
       "      <td>9700</td>\n",
       "      <td>Male</td>\n",
       "      <td>English</td>\n",
       "    </tr>\n",
       "    <tr>\n",
       "      <th>1</th>\n",
       "      <td>Rishabh</td>\n",
       "      <td>83</td>\n",
       "      <td>Male</td>\n",
       "      <td>English</td>\n",
       "    </tr>\n",
       "    <tr>\n",
       "      <th>2</th>\n",
       "      <td>Ajay</td>\n",
       "      <td>78</td>\n",
       "      <td>Male</td>\n",
       "      <td>Physics</td>\n",
       "    </tr>\n",
       "    <tr>\n",
       "      <th>3</th>\n",
       "      <td>Abhinav</td>\n",
       "      <td>86</td>\n",
       "      <td>Male</td>\n",
       "      <td>Chemistry</td>\n",
       "    </tr>\n",
       "    <tr>\n",
       "      <th>4</th>\n",
       "      <td>Anurag</td>\n",
       "      <td>91</td>\n",
       "      <td>Male</td>\n",
       "      <td>English</td>\n",
       "    </tr>\n",
       "  </tbody>\n",
       "</table>\n",
       "</div>"
      ],
      "text/plain": [
       "   Student  Overall Marks Gender    Subject\n",
       "0    Anish           9700   Male    English\n",
       "1  Rishabh             83   Male    English\n",
       "2     Ajay             78   Male    Physics\n",
       "3  Abhinav             86   Male  Chemistry\n",
       "4   Anurag             91   Male    English"
      ]
     },
     "execution_count": 49,
     "metadata": {},
     "output_type": "execute_result"
    }
   ],
   "source": [
    "data.head()"
   ]
  },
  {
   "cell_type": "code",
   "execution_count": 50,
   "id": "da3903aa",
   "metadata": {},
   "outputs": [],
   "source": [
    "freq_data = data[\"Subject\"].value_counts()"
   ]
  },
  {
   "cell_type": "code",
   "execution_count": 51,
   "id": "e38315a8",
   "metadata": {},
   "outputs": [
    {
     "data": {
      "text/plain": [
       "Chemistry    36\n",
       "Physics      35\n",
       "English      29\n",
       "Name: Subject, dtype: int64"
      ]
     },
     "execution_count": 51,
     "metadata": {},
     "output_type": "execute_result"
    }
   ],
   "source": [
    "freq_data"
   ]
  },
  {
   "cell_type": "code",
   "execution_count": null,
   "id": "7576f3b0",
   "metadata": {},
   "outputs": [],
   "source": []
  },
  {
   "cell_type": "code",
   "execution_count": null,
   "id": "5c7a6a17",
   "metadata": {},
   "outputs": [],
   "source": []
  }
 ],
 "metadata": {
  "kernelspec": {
   "display_name": "Python 3 (ipykernel)",
   "language": "python",
   "name": "python3"
  },
  "language_info": {
   "codemirror_mode": {
    "name": "ipython",
    "version": 3
   },
   "file_extension": ".py",
   "mimetype": "text/x-python",
   "name": "python",
   "nbconvert_exporter": "python",
   "pygments_lexer": "ipython3",
   "version": "3.9.12"
  }
 },
 "nbformat": 4,
 "nbformat_minor": 5
}
